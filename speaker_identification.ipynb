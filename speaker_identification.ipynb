{
  "nbformat": 4,
  "nbformat_minor": 0,
  "metadata": {
    "colab": {
      "name": "speaker_identification.ipynb",
      "provenance": [],
      "collapsed_sections": [],
      "machine_shape": "hm"
    },
    "kernelspec": {
      "name": "python3",
      "display_name": "Python 3"
    }
  },
  "cells": [
    {
      "cell_type": "code",
      "metadata": {
        "id": "KSgBTPSRLvGT",
        "colab_type": "code",
        "colab": {}
      },
      "source": [
        "import numpy as np\n",
        "import pandas as pd\n",
        "import torch\n",
        "import torch.nn as nn\n",
        "import random\n",
        "from torch.nn.utils.rnn import pad_sequence\n",
        "device = torch.device(\"cuda\" if torch.cuda.is_available() else \"cpu\")\n",
        "import re\n",
        "import matplotlib.pyplot as plt\n",
        "import torch.nn.functional as F\n",
        "from sklearn.decomposition import PCA\n",
        "import matplotlib.pyplot as plt\n",
        "from sklearn.neighbors import NearestNeighbors\n",
        "from sklearn.neighbors import KNeighborsClassifier"
      ],
      "execution_count": 0,
      "outputs": []
    },
    {
      "cell_type": "code",
      "metadata": {
        "id": "qHUq64MpMR1o",
        "colab_type": "code",
        "colab": {}
      },
      "source": [
        "# Setting up data paths\n",
        "train_background_path = \"drive/My Drive/Speaker_identity/trn_background.csv\"\n",
        "train_black_list_path = \"drive/My Drive/Speaker_identity/trn_blacklist.csv\"\n",
        "test_data_path = \"drive/My Drive/Speaker_identity/tst_evaluation.csv\"\n",
        "test_keys_path = \"drive/My Drive/Speaker_identity/tst_evaluation_keys.csv\""
      ],
      "execution_count": 0,
      "outputs": []
    },
    {
      "cell_type": "code",
      "metadata": {
        "id": "Zud24CRDu9QQ",
        "colab_type": "code",
        "colab": {}
      },
      "source": [
        "# Building header\n",
        "h1 = [i for i in range(601)]\n",
        "h2 = [i for i in range(601)]\n",
        "h3 = [i for i in range(601)]\n"
      ],
      "execution_count": 0,
      "outputs": []
    },
    {
      "cell_type": "code",
      "metadata": {
        "id": "jD4mzI7qrwXt",
        "colab_type": "code",
        "colab": {}
      },
      "source": [
        "df_background = pd.read_csv(train_background_path, skiprows=[0], names= h1)\n",
        "df_black = pd.read_csv(train_black_list_path, skiprows=[0] , names = h2) \n",
        "df_test = pd.read_csv(test_data_path ,skiprows=[0] ,names  =h3)  # test data\n",
        "df_keys = pd.read_csv(test_keys_path)   # test_data answers"
      ],
      "execution_count": 0,
      "outputs": []
    },
    {
      "cell_type": "code",
      "metadata": {
        "id": "tEpj4LN5cDdn",
        "colab_type": "code",
        "colab": {
          "base_uri": "https://localhost:8080/",
          "height": 260
        },
        "outputId": "0af9371d-0395-4d0e-dd54-583028361ea5"
      },
      "source": [
        "print(df_keys)\n",
        "# the keys match each speaker in the test data to background or black_listed speaker ID "
      ],
      "execution_count": 249,
      "outputs": [
        {
          "output_type": "stream",
          "text": [
            "                id bl_matching         set\n",
            "0      wvcp_071162  background  evaluation\n",
            "1      qijd_669595  background  evaluation\n",
            "2      dsng_127334  background    progress\n",
            "3      gmaf_850693  background    progress\n",
            "4      qnae_473935        grpp    progress\n",
            "...            ...         ...         ...\n",
            "16012  veeo_223163  background  evaluation\n",
            "16013  tehn_720156        swhh  evaluation\n",
            "16014  tfvi_964632  background  evaluation\n",
            "16015  mfba_088192  background  evaluation\n",
            "16016  lqdb_095778  background  evaluation\n",
            "\n",
            "[16017 rows x 3 columns]\n"
          ],
          "name": "stdout"
        }
      ]
    },
    {
      "cell_type": "code",
      "metadata": {
        "id": "L8Mi7r1gyfaz",
        "colab_type": "code",
        "colab": {}
      },
      "source": [
        "df_test = df_test[df_keys[\"set\"] == \"progress\"]\n"
      ],
      "execution_count": 0,
      "outputs": []
    },
    {
      "cell_type": "code",
      "metadata": {
        "id": "1f4fRYwajCzL",
        "colab_type": "code",
        "colab": {}
      },
      "source": [
        "df_keys = df_keys[df_keys[\"set\"] == \"progress\"]"
      ],
      "execution_count": 0,
      "outputs": []
    },
    {
      "cell_type": "code",
      "metadata": {
        "id": "C4OKnXjCr9pW",
        "colab_type": "code",
        "outputId": "685da985-175d-4222-bbc3-9f092c27bb42",
        "colab": {
          "base_uri": "https://localhost:8080/",
          "height": 121
        }
      },
      "source": [
        "# Note that df_back_ground contains ivectors for non black listed people\n",
        "# And df_black, the black_listed people\n",
        "# Lets have a look at the data set\n",
        "print(df_background.info())\n"
      ],
      "execution_count": 252,
      "outputs": [
        {
          "output_type": "stream",
          "text": [
            "<class 'pandas.core.frame.DataFrame'>\n",
            "RangeIndex: 30952 entries, 0 to 30951\n",
            "Columns: 601 entries, 0 to 600\n",
            "dtypes: float64(600), object(1)\n",
            "memory usage: 141.9+ MB\n",
            "None\n"
          ],
          "name": "stdout"
        }
      ]
    },
    {
      "cell_type": "code",
      "metadata": {
        "id": "vzuESMOvsPd1",
        "colab_type": "code",
        "colab": {}
      },
      "source": [
        "# The data contains the speaker ID(0) and 600 dimentional ivector(1 - 600) corrosponding to them\n",
        "\n",
        "# Now lets plot and see using PCA reduction how the normal and balcklisted ivectors lie\n",
        "pca = PCA(n_components=2)"
      ],
      "execution_count": 0,
      "outputs": []
    },
    {
      "cell_type": "code",
      "metadata": {
        "id": "E0AIQg_ttYWV",
        "colab_type": "code",
        "colab": {}
      },
      "source": [
        "# Dropping ID and just keeping the ivectors\n",
        "normal_ivectors = df_background.drop(0 , axis = 1).values\n",
        "black_ivectors = df_black.drop(0 , axis = 1).values\n",
        "test_ivectors = df_test.drop(0 , axis = 1).values"
      ],
      "execution_count": 0,
      "outputs": []
    },
    {
      "cell_type": "code",
      "metadata": {
        "id": "wjiS7TKRtml1",
        "colab_type": "code",
        "colab": {}
      },
      "source": [
        "# Now combining these vectors together so that we can get the PCA\n",
        "sep_index = len(normal_ivectors) -1\n",
        "ivectors = np.concatenate( (normal_ivectors , black_ivectors) , axis = 0)"
      ],
      "execution_count": 0,
      "outputs": []
    },
    {
      "cell_type": "code",
      "metadata": {
        "id": "2rF8QGuJttI2",
        "colab_type": "code",
        "colab": {}
      },
      "source": [
        "# These are 2 dimentional representation\n",
        "principalComponents = pca.fit_transform(ivectors)"
      ],
      "execution_count": 0,
      "outputs": []
    },
    {
      "cell_type": "code",
      "metadata": {
        "id": "l78z_A0Gxemm",
        "colab_type": "code",
        "outputId": "ede69566-2026-4e31-e118-13ad86f14057",
        "colab": {
          "base_uri": "https://localhost:8080/",
          "height": 283
        }
      },
      "source": [
        "# Lets plot em\n",
        "plt.scatter(principalComponents[:sep_index, 0] ,principalComponents[:sep_index, 1], linewidths = .01 , alpha = .1 )\n",
        "plt.scatter(principalComponents[sep_index:, 0] ,principalComponents[sep_index:, 1], linewidths = .01 , c = \"r\" , alpha = .1)\n",
        "# Blue for normal_speakers and red for the black_listed ones"
      ],
      "execution_count": 257,
      "outputs": [
        {
          "output_type": "execute_result",
          "data": {
            "text/plain": [
              "<matplotlib.collections.PathCollection at 0x7fb5b563be48>"
            ]
          },
          "metadata": {
            "tags": []
          },
          "execution_count": 257
        },
        {
          "output_type": "display_data",
          "data": {
            "image/png": "[encoded data removed]",
            "text/plain": [
              "<Figure size 432x288 with 1 Axes>"
            ]
          },
          "metadata": {
            "tags": []
          }
        }
      ]
    },
    {
      "cell_type": "markdown",
      "metadata": {
        "id": "co6tlmq8zep_",
        "colab_type": "text"
      },
      "source": [
        "As we can see the PCA gives a nice separation between the two classes, so the classes are already well seperated in the ivectors"
      ]
    },
    {
      "cell_type": "code",
      "metadata": {
        "id": "GNehwQpojB0u",
        "colab_type": "code",
        "colab": {}
      },
      "source": [
        "ivector_labels = np.zeros(len(ivectors))\n",
        "ivector_labels[sep_index:] += 1"
      ],
      "execution_count": 0,
      "outputs": []
    },
    {
      "cell_type": "code",
      "metadata": {
        "id": "QfVeEh370C5H",
        "colab_type": "code",
        "colab": {}
      },
      "source": [
        "test_labels = []\n",
        "for catagory in df_keys[\"bl_matching\"]:\n",
        "    if(catagory == \"background\"):\n",
        "        test_labels.append(0)\n",
        "    else:\n",
        "        test_labels.append(1)\n"
      ],
      "execution_count": 0,
      "outputs": []
    },
    {
      "cell_type": "code",
      "metadata": {
        "id": "IIPP709jeEhq",
        "colab_type": "code",
        "colab": {}
      },
      "source": [
        "class average_classifier():\n",
        "    def __init__(self, class1_points , class2_points):\n",
        "        self.class1_average =  np.average(class1_points , axis = 0)\n",
        "        self.class2_average = np.average(class2_points , axis = 0)\n",
        "    def closest_vector(self, v1 , v2, v3):\n",
        "        d1 = np.linalg.norm(v1- v2)\n",
        "        d2 = np.linalg.norm(v1 - v3)\n",
        "        if(d1 > d2):\n",
        "            return 1\n",
        "        else:\n",
        "            return 0\n",
        "    def classifier(self,test_vectors):\n",
        "        result = []\n",
        "        for v in test_vectors:\n",
        "            result.append(self.closest_vector(v , self.class1_average,self.class2_average))\n",
        "        return result\n",
        "\n",
        "    def miss_classifications(self,test_result,test_labels):\n",
        "        sm = 0\n",
        "        for i,j in zip(test_result,test_labels):\n",
        "            if(i != j):\n",
        "                sm += 1\n",
        "        return sm\n",
        "\n",
        "class KNN:\n",
        "    def __init__(self ,trained_points ,train_classes ,N =3 ,):\n",
        "        self.trained_points = trained_points\n",
        "        self.train_classes = train_classes\n",
        "        self.sep_index = sep_index # all index from [0:sep_index -1] are class 0 and rest 1\n",
        "        self.classifier = KNeighborsClassifier(n_neighbors=N, n_jobs =-1)\n",
        "        self.classifier.fit(self.trained_points, train_classes)\n",
        "\n",
        "    def classify(self, test_points):\n",
        "        return self.classifier.predict(test_points)\n",
        "\n",
        "    def miss_classifications(self,test_result,test_labels):\n",
        "        sm = 0\n",
        "        for i,j in zip(test_result,test_labels):\n",
        "            if(i != j):\n",
        "                sm += 1\n",
        "        return sm\n",
        "\n",
        "\n"
      ],
      "execution_count": 0,
      "outputs": []
    },
    {
      "cell_type": "code",
      "metadata": {
        "id": "RD1lebiAfoxl",
        "colab_type": "code",
        "colab": {}
      },
      "source": [
        "avg_classifier =  average_classifier(normal_ivectors , black_ivectors)\n",
        "result1 = avg_classifier.classifier(test_ivectors)"
      ],
      "execution_count": 0,
      "outputs": []
    },
    {
      "cell_type": "code",
      "metadata": {
        "id": "WNlJVv-whzWU",
        "colab_type": "code",
        "colab": {
          "base_uri": "https://localhost:8080/",
          "height": 35
        },
        "outputId": "2952801b-bb38-4a3a-9b1e-ef1f6cb3e899"
      },
      "source": [
        "print(avg_classifier.miss_classifications(result1,test_labels))"
      ],
      "execution_count": 430,
      "outputs": [
        {
          "output_type": "stream",
          "text": [
            "1841\n"
          ],
          "name": "stdout"
        }
      ]
    },
    {
      "cell_type": "code",
      "metadata": {
        "id": "DSZa4eoRkyXd",
        "colab_type": "code",
        "colab": {}
      },
      "source": [
        "classifier = KNN(trained_points = ivectors ,train_classes= ivector_labels, N = 3)\n",
        "result2 = classifier.classify(test_ivectors)\n"
      ],
      "execution_count": 0,
      "outputs": []
    },
    {
      "cell_type": "code",
      "metadata": {
        "id": "AnZsMBrg1UZU",
        "colab_type": "code",
        "colab": {
          "base_uri": "https://localhost:8080/",
          "height": 35
        },
        "outputId": "65889010-32e2-4e4b-80bc-cb7790bd18e4"
      },
      "source": [
        "classifier.miss_classifications(result2,test_labels)"
      ],
      "execution_count": 173,
      "outputs": [
        {
          "output_type": "execute_result",
          "data": {
            "text/plain": [
              "2772"
            ]
          },
          "metadata": {
            "tags": []
          },
          "execution_count": 173
        }
      ]
    },
    {
      "cell_type": "markdown",
      "metadata": {
        "id": "yUPbKT66gESy",
        "colab_type": "text"
      },
      "source": [
        "With the orignal data the average classifier gives 2880 miss classification\n",
        "And the KNN gives 2772. Which is bad as the paper reduced this count to 428 !!!!"
      ]
    },
    {
      "cell_type": "code",
      "metadata": {
        "id": "M5FviPHSx589",
        "colab_type": "code",
        "colab": {}
      },
      "source": [
        " # This function clubs the ivectors of same speakers together (to be applied to group by)\n",
        "def extract_ivectors(df):\n",
        "    return [ivector for ivector in df[\"ivector\"] ]\n",
        "\n",
        "# This function removes numbers from the ID so that we can group by IDs\n",
        "def remove_nums(ID):\n",
        "    ID = re.sub(r'[^a-zA-Z]','',ID) # remove numbers\n",
        "    return ID"
      ],
      "execution_count": 0,
      "outputs": []
    },
    {
      "cell_type": "code",
      "metadata": {
        "id": "6c6IKzt2zPX3",
        "colab_type": "code",
        "colab": {}
      },
      "source": [
        "# Restructuring the data\n",
        "normal_df = pd.DataFrame({\"ID\":df_background[0].values.tolist() , \"ivector\":normal_ivectors.tolist()})\n",
        "black_df =  pd.DataFrame({\"ID\":df_black[0].values.tolist() , \"ivector\":black_ivectors.tolist()})\n",
        "#test_df = pd.DataFrame({\"ID\":df_test[0].values.tolist() , \"ivector\":test_ivectors.tolist()})\n",
        "normal_df[\"ID\"] = normal_df[\"ID\"].apply(remove_nums)\n",
        "black_df[\"ID\"] = black_df[\"ID\"].apply(remove_nums)\n",
        "#test_df[\"ID\"] = test_df[\"ID\"].apply(remove_nums)\n"
      ],
      "execution_count": 0,
      "outputs": []
    },
    {
      "cell_type": "code",
      "metadata": {
        "id": "ovfGhvk15Ao4",
        "colab_type": "code",
        "colab": {}
      },
      "source": [
        "black_df = black_df.groupby(\"ID\").apply(extract_ivectors)\n",
        "normal_df= normal_df.groupby(\"ID\").apply(extract_ivectors)\n",
        "#test_df = test_df.groupby(\"ID\").apply(extract_ivectors)\n",
        "del df_black\n",
        "del df_background\n"
      ],
      "execution_count": 0,
      "outputs": []
    },
    {
      "cell_type": "code",
      "metadata": {
        "id": "M-D24_KUpiC0",
        "colab_type": "code",
        "colab": {}
      },
      "source": [
        "black_df = black_df.values\n",
        "normal_df = normal_df.values"
      ],
      "execution_count": 0,
      "outputs": []
    },
    {
      "cell_type": "markdown",
      "metadata": {
        "id": "p_Usleb994jg",
        "colab_type": "text"
      },
      "source": [
        "So now we have extracted and grouped ivectors according to the ID of the people.\n",
        "\n",
        "Note that every black_listed speaker has 3 ivectors, and every normal speaker has 4-5"
      ]
    },
    {
      "cell_type": "code",
      "metadata": {
        "id": "A4rjdZdN55D0",
        "colab_type": "code",
        "colab": {}
      },
      "source": [
        "# Lets make a scheme to create triplets\n",
        "# We make 2 types of pairs\n",
        "# One (normal , normal , black)\n",
        "# two (black_si , balck_si , black_sj)  where si is speaker i\n",
        "def get_random_utterance(data):\n",
        "    L = len(data)\n",
        "    # lets pick a random speaker\n",
        "    speaker_id = np.random.randint(low = 0 , high = L -1)\n",
        "    speaker = data[speaker_id]\n",
        "    # Returning any random utterance of the speaker\n",
        "    return random.choice(speaker)\n",
        "    \n",
        "\n",
        "\n",
        "def make_triplets_one(data_normal ,data_black , num_triplets , ivector_length):\n",
        "    triplets = np.empty((num_triplets*3 ,ivector_length),dtype =np.float32)\n",
        "    for i in range(num_triplets):\n",
        "        triplets[i] = get_random_utterance(data_normal)\n",
        "        triplets[i+num_triplets] = get_random_utterance(data_normal) \n",
        "        triplets[i+2*num_triplets] = get_random_utterance(data_black)\n",
        "    return triplets\n",
        "\n"
      ],
      "execution_count": 0,
      "outputs": []
    },
    {
      "cell_type": "code",
      "metadata": {
        "id": "oVhzz20Y8IPf",
        "colab_type": "code",
        "colab": {}
      },
      "source": [
        "# Now lets make a batch_feeder function for the first task\n",
        "def get_train_batch_one(data_normal , data_black,  batch_size ,  ivector_length = 600):\n",
        "    batch = torch.tensor(make_triplets_one(data_normal, data_black , batch_size , ivector_length))\n",
        "    return batch\n",
        "\n",
        "\n"
      ],
      "execution_count": 0,
      "outputs": []
    },
    {
      "cell_type": "markdown",
      "metadata": {
        "id": "Ghlgf_0C48YZ",
        "colab_type": "text"
      },
      "source": [
        "***Lets start building the model***"
      ]
    },
    {
      "cell_type": "code",
      "metadata": {
        "id": "iAiByqvK4bC_",
        "colab_type": "code",
        "colab": {}
      },
      "source": [
        "class Model1(nn.Module):\n",
        "    def __init__(self ,hidden_size, latent_space_dim , ivector_length = 600  ):\n",
        "        super().__init__()\n",
        "        self.hidden_size = hidden_size\n",
        "        self.ivector_length = ivector_length\n",
        "        self.latent_space_dim = latent_space_dim\n",
        "        self.linear1 = nn.Linear(self.ivector_length , self.hidden_size)\n",
        "        self.linear2 = nn.Linear(self.hidden_size , self.latent_space_dim)\n",
        "       \n",
        "        self.relu1 = nn.ReLU()\n",
        "        self.sig = nn.Sigmoid()\n",
        "    def forward(self , triplets):\n",
        "        X = self.linear1(triplets)\n",
        "        X = self.relu1(X)\n",
        "        X = self.linear2(X)\n",
        "        return self.sig(X)\n",
        "    \n"
      ],
      "execution_count": 0,
      "outputs": []
    },
    {
      "cell_type": "code",
      "metadata": {
        "id": "fX4H-jFH8AIs",
        "colab_type": "code",
        "colab": {}
      },
      "source": [
        "crit = nn.PairwiseDistance(2)\n",
        "def loss_one(model_out ,alpha ):\n",
        "    epsilon = 1e-6\n",
        "    batch_size , _ = model_out.size()\n",
        "    index = batch_size//3\n",
        "    dist_similar = crit(model_out[0:index, :] , model_out[index:2*index, :])\n",
        "    dist_different = crit(model_out[0:index,:] , model_out[2*index:, :])\n",
        "    dist_similar = -torch.log(-(dist_similar/alpha)+1+epsilon)\n",
        "    dist_different = -torch.log(-((alpha-dist_different)/alpha)+1+epsilon)\n",
        "    # compute loss\n",
        "    loss = dist_similar + dist_different\n",
        "    return loss.mean()"
      ],
      "execution_count": 0,
      "outputs": []
    },
    {
      "cell_type": "code",
      "metadata": {
        "id": "_oIFweRi9mF6",
        "colab_type": "code",
        "colab": {}
      },
      "source": [
        "model1 = Model1(hidden_size = 1000 , latent_space_dim = 600)"
      ],
      "execution_count": 0,
      "outputs": []
    },
    {
      "cell_type": "code",
      "metadata": {
        "id": "HHiVbFxa9kxJ",
        "colab_type": "code",
        "colab": {}
      },
      "source": [
        "learning_rate = .001\n",
        "optimizer = torch.optim.Adam(list(model1.parameters()), learning_rate)"
      ],
      "execution_count": 0,
      "outputs": []
    },
    {
      "cell_type": "code",
      "metadata": {
        "id": "31-tn8Kq-Me2",
        "colab_type": "code",
        "colab": {}
      },
      "source": [
        "def train(model , epochs , batch_size):\n",
        "    for _ in range(epochs):\n",
        "        batch = get_train_batch_one(normal_df , black_df,  batch_size ,  ivector_length = 600)\n",
        "        model_out = model(batch)\n",
        "        loss = loss_one(model_out,1000)\n",
        "        if(isinstance(loss , int)):\n",
        "            continue\n",
        "        loss.backward()\n",
        "        optimizer.step()\n",
        "        optimizer.zero_grad()\n",
        "        print(loss.item())\n",
        "   # loss_arr.append(epoch_loss/inner_loop_size)"
      ],
      "execution_count": 0,
      "outputs": []
    },
    {
      "cell_type": "code",
      "metadata": {
        "id": "1r_UXqeU-Pcv",
        "colab_type": "code",
        "colab": {}
      },
      "source": [
        "train(model1 ,200, 1024)"
      ],
      "execution_count": 0,
      "outputs": []
    },
    {
      "cell_type": "code",
      "metadata": {
        "id": "kRrIlfp4_GF2",
        "colab_type": "code",
        "colab": {}
      },
      "source": [
        "trained_ivectors = model1(torch.tensor(ivectors).float()).detach().numpy()\n",
        "transformed_test_ivectors = model1(torch.tensor(test_ivectors).float()).detach().numpy()"
      ],
      "execution_count": 0,
      "outputs": []
    },
    {
      "cell_type": "code",
      "metadata": {
        "id": "sNHIhwgL_LAO",
        "colab_type": "code",
        "colab": {}
      },
      "source": [
        "principalComponents = pca.fit_transform(trained_ivectors)"
      ],
      "execution_count": 0,
      "outputs": []
    },
    {
      "cell_type": "code",
      "metadata": {
        "id": "DQDqyJhV_dAm",
        "colab_type": "code",
        "colab": {
          "base_uri": "https://localhost:8080/",
          "height": 283
        },
        "outputId": "38ef852b-659c-4f17-a073-1f24b1f7df01"
      },
      "source": [
        "# Lets plot em\n",
        "plt.scatter(principalComponents[:sep_index, 0] ,principalComponents[:sep_index, 1], linewidths = .01 , alpha = .1 )\n",
        "plt.scatter(principalComponents[sep_index:, 0] ,principalComponents[sep_index:, 1], linewidths = .01 , c = \"r\" , alpha = .1)\n",
        "\n",
        "# Blue for normal_speakers and red for the black_listed ones"
      ],
      "execution_count": 482,
      "outputs": [
        {
          "output_type": "execute_result",
          "data": {
            "text/plain": [
              "<matplotlib.collections.PathCollection at 0x7fb5cbc070f0>"
            ]
          },
          "metadata": {
            "tags": []
          },
          "execution_count": 482
        },
        {
          "output_type": "display_data",
          "data": {
            "image/png": "[encoded data removed]",
            "text/plain": [
              "<Figure size 432x288 with 1 Axes>"
            ]
          },
          "metadata": {
            "tags": []
          }
        }
      ]
    },
    {
      "cell_type": "markdown",
      "metadata": {
        "id": "uRyyT_ADtJie",
        "colab_type": "text"
      },
      "source": [
        "As you can see, we have achieved better clusterring by training. Depending on the training and creation of dataset this will vary"
      ]
    },
    {
      "cell_type": "code",
      "metadata": {
        "id": "PXjGCt5nqhfT",
        "colab_type": "code",
        "colab": {}
      },
      "source": [
        "# Now lets have alook at the results....\n",
        "# Transforming the test matrix by the model.."
      ],
      "execution_count": 0,
      "outputs": []
    },
    {
      "cell_type": "code",
      "metadata": {
        "id": "_-frE4PVuV7K",
        "colab_type": "code",
        "colab": {}
      },
      "source": [
        "transformed_normal_ivectors = trained_ivectors[:sep_index]\n",
        "transformed_black_ivectors = trained_ivectors[sep_index:] "
      ],
      "execution_count": 0,
      "outputs": []
    },
    {
      "cell_type": "code",
      "metadata": {
        "id": "n8Nn11vctrHS",
        "colab_type": "code",
        "colab": {}
      },
      "source": [
        "avg_classifier =  average_classifier(transformed_normal_ivectors , transformed_black_ivectors)\n",
        "result1 = avg_classifier.classifier(transformed_test_ivectors)"
      ],
      "execution_count": 0,
      "outputs": []
    },
    {
      "cell_type": "code",
      "metadata": {
        "id": "r_tRdGFZuPvi",
        "colab_type": "code",
        "colab": {
          "base_uri": "https://localhost:8080/",
          "height": 35
        },
        "outputId": "0d1a8016-d7b3-4022-af84-28a362ae7e33"
      },
      "source": [
        "print(avg_classifier.miss_classifications(result1,test_labels))"
      ],
      "execution_count": 486,
      "outputs": [
        {
          "output_type": "stream",
          "text": [
            "1121\n"
          ],
          "name": "stdout"
        }
      ]
    },
    {
      "cell_type": "code",
      "metadata": {
        "id": "0NChsSMr1brN",
        "colab_type": "code",
        "colab": {}
      },
      "source": [
        "# Now for the KNN classifier\n",
        "classifier = KNN(trained_points = trained_ivectors ,train_classes= ivector_labels, N = 3)\n",
        "result2 = classifier.classify(transformed_test_ivectors)"
      ],
      "execution_count": 0,
      "outputs": []
    },
    {
      "cell_type": "code",
      "metadata": {
        "id": "WaQfsh301nEi",
        "colab_type": "code",
        "colab": {
          "base_uri": "https://localhost:8080/",
          "height": 35
        },
        "outputId": "d2ffc2c1-9f0b-4694-b149-6b4a6db2f5c3"
      },
      "source": [
        "classifier.miss_classifications(result2,test_labels)"
      ],
      "execution_count": 488,
      "outputs": [
        {
          "output_type": "execute_result",
          "data": {
            "text/plain": [
              "1289"
            ]
          },
          "metadata": {
            "tags": []
          },
          "execution_count": 488
        }
      ]
    },
    {
      "cell_type": "markdown",
      "metadata": {
        "id": "T7eBXykt2OLw",
        "colab_type": "text"
      },
      "source": [
        "So by training with a triplet loss, We have improved the performance of both the classifiers"
      ]
    },
    {
      "cell_type": "code",
      "metadata": {
        "id": "b0JcVjN911RC",
        "colab_type": "code",
        "colab": {}
      },
      "source": [
        ""
      ],
      "execution_count": 0,
      "outputs": []
    }
  ]
}